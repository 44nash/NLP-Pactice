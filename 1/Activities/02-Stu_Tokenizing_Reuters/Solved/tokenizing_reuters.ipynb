{
 "cells": [
  {
   "cell_type": "markdown",
   "metadata": {},
   "source": [
    "# Student Activity: Tokenizing Reuters"
   ]
  },
  {
   "cell_type": "code",
   "execution_count": 1,
   "metadata": {},
   "outputs": [
    {
     "name": "stderr",
     "output_type": "stream",
     "text": [
      "[nltk_data] Downloading package reuters to /home/jwales/nltk_data...\n",
      "[nltk_data]   Package reuters is already up-to-date!\n",
      "[nltk_data] Downloading package punkt to /home/jwales/nltk_data...\n",
      "[nltk_data]   Package punkt is already up-to-date!\n"
     ]
    },
    {
     "data": {
      "text/plain": [
       "True"
      ]
     },
     "execution_count": 1,
     "metadata": {},
     "output_type": "execute_result"
    }
   ],
   "source": [
    "from nltk.corpus import reuters\n",
    "from nltk.tokenize import sent_tokenize, word_tokenize\n",
    "import pandas as pd\n",
    "\n",
    "# Code to download corpora\n",
    "import nltk\n",
    "nltk.download('reuters')\n",
    "nltk.download('punkt')"
   ]
  },
  {
   "cell_type": "code",
   "execution_count": 2,
   "metadata": {},
   "outputs": [
    {
     "name": "stdout",
     "output_type": "stream",
     "text": [
      "['acq', 'alum', 'barley', 'bop', 'carcass', 'castor-oil', 'cocoa', 'coconut', 'coconut-oil', 'coffee', 'copper', 'copra-cake', 'corn', 'cotton', 'cotton-oil', 'cpi', 'cpu', 'crude', 'dfl', 'dlr', 'dmk', 'earn', 'fuel', 'gas', 'gnp', 'gold', 'grain', 'groundnut', 'groundnut-oil', 'heat', 'hog', 'housing', 'income', 'instal-debt', 'interest', 'ipi', 'iron-steel', 'jet', 'jobs', 'l-cattle', 'lead', 'lei', 'lin-oil', 'livestock', 'lumber', 'meal-feed', 'money-fx', 'money-supply', 'naphtha', 'nat-gas', 'nickel', 'nkr', 'nzdlr', 'oat', 'oilseed', 'orange', 'palladium', 'palm-oil', 'palmkernel', 'pet-chem', 'platinum', 'potato', 'propane', 'rand', 'rape-oil', 'rapeseed', 'reserves', 'retail', 'rice', 'rubber', 'rye', 'ship', 'silver', 'sorghum', 'soy-meal', 'soy-oil', 'soybean', 'strategic-metal', 'sugar', 'sun-meal', 'sun-oil', 'sunseed', 'tea', 'tin', 'trade', 'veg-oil', 'wheat', 'wpi', 'yen', 'zinc']\n"
     ]
    }
   ],
   "source": [
    "# Search through all categories\n",
    "print(reuters.categories())"
   ]
  },
  {
   "cell_type": "code",
   "execution_count": 3,
   "metadata": {},
   "outputs": [],
   "source": [
    "# Get all fileids associated with cpi\n",
    "cpi_ids = reuters.fileids(categories = 'cpi')"
   ]
  },
  {
   "cell_type": "code",
   "execution_count": 4,
   "metadata": {},
   "outputs": [
    {
     "data": {
      "text/plain": [
       "['test/14891',\n",
       " 'test/14918',\n",
       " 'test/16103',\n",
       " 'test/16108',\n",
       " 'test/16118',\n",
       " 'test/16134',\n",
       " 'test/16158',\n",
       " 'test/16226',\n",
       " 'test/16241',\n",
       " 'test/16268',\n",
       " 'test/16415',\n",
       " 'test/16740',\n",
       " 'test/16783',\n",
       " 'test/17442',\n",
       " 'test/17970',\n",
       " 'test/18001',\n",
       " 'test/18987',\n",
       " 'test/18993',\n",
       " 'test/19000',\n",
       " 'test/19005',\n",
       " 'test/19079',\n",
       " 'test/19081',\n",
       " 'test/19513',\n",
       " 'test/19625',\n",
       " 'test/19653',\n",
       " 'test/20247',\n",
       " 'test/21130',\n",
       " 'test/21532',\n",
       " 'training/10260',\n",
       " 'training/10261',\n",
       " 'training/10377',\n",
       " 'training/10384',\n",
       " 'training/10385',\n",
       " 'training/10553',\n",
       " 'training/10567',\n",
       " 'training/10724',\n",
       " 'training/11197',\n",
       " 'training/1147',\n",
       " 'training/11894',\n",
       " 'training/12080',\n",
       " 'training/12464',\n",
       " 'training/12771',\n",
       " 'training/13007',\n",
       " 'training/13172',\n",
       " 'training/13333',\n",
       " 'training/14770',\n",
       " 'training/1550',\n",
       " 'training/1681',\n",
       " 'training/179',\n",
       " 'training/209',\n",
       " 'training/213',\n",
       " 'training/2529',\n",
       " 'training/2555',\n",
       " 'training/3024',\n",
       " 'training/3411',\n",
       " 'training/3593',\n",
       " 'training/4486',\n",
       " 'training/4548',\n",
       " 'training/4555',\n",
       " 'training/4573',\n",
       " 'training/4741',\n",
       " 'training/5145',\n",
       " 'training/5194',\n",
       " 'training/5231',\n",
       " 'training/5238',\n",
       " 'training/5245',\n",
       " 'training/5260',\n",
       " 'training/5318',\n",
       " 'training/5375',\n",
       " 'training/5378',\n",
       " 'training/5389',\n",
       " 'training/5490',\n",
       " 'training/5523',\n",
       " 'training/5830',\n",
       " 'training/6385',\n",
       " 'training/6406',\n",
       " 'training/6920',\n",
       " 'training/6965',\n",
       " 'training/6982',\n",
       " 'training/7177',\n",
       " 'training/7314',\n",
       " 'training/7580',\n",
       " 'training/7584',\n",
       " 'training/7590',\n",
       " 'training/7591',\n",
       " 'training/8119',\n",
       " 'training/8164',\n",
       " 'training/8211',\n",
       " 'training/8694',\n",
       " 'training/8726',\n",
       " 'training/8746',\n",
       " 'training/9165',\n",
       " 'training/929',\n",
       " 'training/9294',\n",
       " 'training/9433',\n",
       " 'training/9824',\n",
       " 'training/9829']"
      ]
     },
     "execution_count": 4,
     "metadata": {},
     "output_type": "execute_result"
    }
   ],
   "source": [
    "cpi_ids"
   ]
  },
  {
   "cell_type": "code",
   "execution_count": 6,
   "metadata": {},
   "outputs": [],
   "source": [
    "# get all raw stories\n",
    "raw_stories = []\n",
    "ids = []\n",
    "for id in cpi_ids:\n",
    "    raw_stories.append(reuters.raw(id))\n",
    "    ids.append(id)"
   ]
  },
  {
   "cell_type": "code",
   "execution_count": 7,
   "metadata": {},
   "outputs": [],
   "source": [
    "# sentence tokenize stories\n",
    "sentence_tokenized = [sent_tokenize(i) for i in raw_stories]"
   ]
  },
  {
   "cell_type": "code",
   "execution_count": 8,
   "metadata": {},
   "outputs": [],
   "source": [
    "# word tokenize all sentences\n",
    "word_tokenized = []\n",
    "\n",
    "for story in sentence_tokenized:\n",
    "    # get all for each article, which is already sentence tokenized\n",
    "    words = []\n",
    "    for sent in story:\n",
    "        words = words + word_tokenize(sent)\n",
    "    # append all words for each article to the word_tokenized list\n",
    "    word_tokenized.append(words)"
   ]
  },
  {
   "cell_type": "code",
   "execution_count": 10,
   "metadata": {},
   "outputs": [],
   "source": [
    "#word_tokenized[0]"
   ]
  },
  {
   "cell_type": "code",
   "execution_count": 7,
   "metadata": {},
   "outputs": [],
   "source": [
    "# Put everything into a DataFrame\n",
    "reuters_cpi = pd.DataFrame({'raw_stories': raw_stories,\n",
    "                             'sentence_tokenized': sentence_tokenized,\n",
    "                             'word_tokenized': word_tokenized\n",
    "                            })\n",
    "reuters_cpi.index = ids"
   ]
  },
  {
   "cell_type": "code",
   "execution_count": null,
   "metadata": {},
   "outputs": [],
   "source": []
  },
  {
   "cell_type": "code",
   "execution_count": 8,
   "metadata": {},
   "outputs": [
    {
     "data": {
      "text/html": [
       "<div>\n",
       "<style scoped>\n",
       "    .dataframe tbody tr th:only-of-type {\n",
       "        vertical-align: middle;\n",
       "    }\n",
       "\n",
       "    .dataframe tbody tr th {\n",
       "        vertical-align: top;\n",
       "    }\n",
       "\n",
       "    .dataframe thead th {\n",
       "        text-align: right;\n",
       "    }\n",
       "</style>\n",
       "<table border=\"1\" class=\"dataframe\">\n",
       "  <thead>\n",
       "    <tr style=\"text-align: right;\">\n",
       "      <th></th>\n",
       "      <th>raw_stories</th>\n",
       "      <th>sentence_tokenized</th>\n",
       "      <th>word_tokenized</th>\n",
       "    </tr>\n",
       "  </thead>\n",
       "  <tbody>\n",
       "    <tr>\n",
       "      <th>test/14891</th>\n",
       "      <td>ECONOMIC SPOTLIGHT - KUWAITI ECONOMY\\n  Kuwait...</td>\n",
       "      <td>[ECONOMIC SPOTLIGHT - KUWAITI ECONOMY\\n  Kuwai...</td>\n",
       "      <td>[ECONOMIC, SPOTLIGHT, -, KUWAITI, ECONOMY, Kuw...</td>\n",
       "    </tr>\n",
       "    <tr>\n",
       "      <th>test/14918</th>\n",
       "      <td>INDONESIAN INFLATION RATE 8.8 PCT IN 1986/87\\n...</td>\n",
       "      <td>[INDONESIAN INFLATION RATE 8.8 PCT IN 1986/87\\...</td>\n",
       "      <td>[INDONESIAN, INFLATION, RATE, 8.8, PCT, IN, 19...</td>\n",
       "    </tr>\n",
       "    <tr>\n",
       "      <th>test/16103</th>\n",
       "      <td>HUNGARY RAISES PRICES IN EFFORT TO CURB DEFICI...</td>\n",
       "      <td>[HUNGARY RAISES PRICES IN EFFORT TO CURB DEFIC...</td>\n",
       "      <td>[HUNGARY, RAISES, PRICES, IN, EFFORT, TO, CURB...</td>\n",
       "    </tr>\n",
       "    <tr>\n",
       "      <th>test/16108</th>\n",
       "      <td>AUSTRALIAN GOVERNMENT MUST CUT SPENDING, ANZ S...</td>\n",
       "      <td>[AUSTRALIAN GOVERNMENT MUST CUT SPENDING, ANZ ...</td>\n",
       "      <td>[AUSTRALIAN, GOVERNMENT, MUST, CUT, SPENDING, ...</td>\n",
       "    </tr>\n",
       "    <tr>\n",
       "      <th>test/16118</th>\n",
       "      <td>YUGOSLAV ECONOMY WORSENED IN 1986, BANK DATA S...</td>\n",
       "      <td>[YUGOSLAV ECONOMY WORSENED IN 1986, BANK DATA ...</td>\n",
       "      <td>[YUGOSLAV, ECONOMY, WORSENED, IN, 1986, ,, BAN...</td>\n",
       "    </tr>\n",
       "  </tbody>\n",
       "</table>\n",
       "</div>"
      ],
      "text/plain": [
       "                                                  raw_stories  \\\n",
       "test/14891  ECONOMIC SPOTLIGHT - KUWAITI ECONOMY\\n  Kuwait...   \n",
       "test/14918  INDONESIAN INFLATION RATE 8.8 PCT IN 1986/87\\n...   \n",
       "test/16103  HUNGARY RAISES PRICES IN EFFORT TO CURB DEFICI...   \n",
       "test/16108  AUSTRALIAN GOVERNMENT MUST CUT SPENDING, ANZ S...   \n",
       "test/16118  YUGOSLAV ECONOMY WORSENED IN 1986, BANK DATA S...   \n",
       "\n",
       "                                           sentence_tokenized  \\\n",
       "test/14891  [ECONOMIC SPOTLIGHT - KUWAITI ECONOMY\\n  Kuwai...   \n",
       "test/14918  [INDONESIAN INFLATION RATE 8.8 PCT IN 1986/87\\...   \n",
       "test/16103  [HUNGARY RAISES PRICES IN EFFORT TO CURB DEFIC...   \n",
       "test/16108  [AUSTRALIAN GOVERNMENT MUST CUT SPENDING, ANZ ...   \n",
       "test/16118  [YUGOSLAV ECONOMY WORSENED IN 1986, BANK DATA ...   \n",
       "\n",
       "                                               word_tokenized  \n",
       "test/14891  [ECONOMIC, SPOTLIGHT, -, KUWAITI, ECONOMY, Kuw...  \n",
       "test/14918  [INDONESIAN, INFLATION, RATE, 8.8, PCT, IN, 19...  \n",
       "test/16103  [HUNGARY, RAISES, PRICES, IN, EFFORT, TO, CURB...  \n",
       "test/16108  [AUSTRALIAN, GOVERNMENT, MUST, CUT, SPENDING, ...  \n",
       "test/16118  [YUGOSLAV, ECONOMY, WORSENED, IN, 1986, ,, BAN...  "
      ]
     },
     "execution_count": 8,
     "metadata": {},
     "output_type": "execute_result"
    }
   ],
   "source": [
    "reuters_cpi.head()"
   ]
  }
 ],
 "metadata": {
  "kernelspec": {
   "display_name": "Python 3",
   "language": "python",
   "name": "python3"
  },
  "language_info": {
   "codemirror_mode": {
    "name": "ipython",
    "version": 3
   },
   "file_extension": ".py",
   "mimetype": "text/x-python",
   "name": "python",
   "nbconvert_exporter": "python",
   "pygments_lexer": "ipython3",
   "version": "3.9.4"
  }
 },
 "nbformat": 4,
 "nbformat_minor": 4
}
